{
 "cells": [
  {
   "cell_type": "code",
   "execution_count": 40,
   "metadata": {},
   "outputs": [],
   "source": [
    "import numpy as np"
   ]
  },
  {
   "cell_type": "code",
   "execution_count": 41,
   "metadata": {},
   "outputs": [],
   "source": [
    "import random\n",
    "import string\n",
    "import math\n"
   ]
  },
  {
   "cell_type": "code",
   "execution_count": 42,
   "metadata": {},
   "outputs": [],
   "source": [
    "topics_count = 25\n",
    "entities_count = 5000\n",
    "instance_per_entiry = 5\n",
    "train_size = entities_count * instance_per_entiry // 4 * 3\n",
    "\n",
    "words_in_topic = (5, 10)\n",
    "word_length = (4, 7)\n",
    "topics_in_entity = (1, 4)\n",
    "topic_words_per_entity = (1, 6)\n",
    "random_words_per_entity = (3, 9)"
   ]
  },
  {
   "cell_type": "code",
   "execution_count": 43,
   "metadata": {},
   "outputs": [],
   "source": [
    "def gen_word():\n",
    "    word_len = np.random.randint(*word_length)\n",
    "    return ''.join(random.sample(string.ascii_lowercase, word_len))"
   ]
  },
  {
   "cell_type": "code",
   "execution_count": 44,
   "metadata": {},
   "outputs": [],
   "source": [
    "def error_prob(a, b):\n",
    "    int_len = len(set(a).intersection(b))\n",
    "    int_comb = math.pow(2, int_len) - 1\n",
    "    a_prob = int_comb / (math.pow(2, len(a)) - 1)\n",
    "    b_prob = int_comb / (math.pow(2, len(b)) - 1)    \n",
    "    return a_prob * b_prob"
   ]
  },
  {
   "cell_type": "code",
   "execution_count": 45,
   "metadata": {},
   "outputs": [],
   "source": [
    "topics = []\n",
    "for i in range(topics_count):\n",
    "    topic = []\n",
    "    word_count = np.random.randint(*words_in_topic)\n",
    "    for j in range(word_count):\n",
    "        topic.append(gen_word())\n",
    "    topics.append(topic)"
   ]
  },
  {
   "cell_type": "code",
   "execution_count": 46,
   "metadata": {},
   "outputs": [],
   "source": [
    "random_words = [gen_word() for _ in range(500)]"
   ]
  },
  {
   "cell_type": "code",
   "execution_count": 47,
   "metadata": {},
   "outputs": [],
   "source": [
    "entity_to_topics = []\n",
    "lines = []\n",
    "for entity in range(entities_count):\n",
    "    entity_topics_count = np.random.randint(*topics_in_entity)\n",
    "    entity_topics = random.sample(range(topics_count), k=entity_topics_count)\n",
    "    \n",
    "    entity_to_topics.append(entity_topics)\n",
    "    \n",
    "    for i in range(instance_per_entiry):\n",
    "        words = []\n",
    "        entity_topic_words_count = np.random.randint(*topic_words_per_entity)\n",
    "        for w in range(entity_topic_words_count):\n",
    "            topic_id = random.choice(entity_topics)\n",
    "            words.append(random.choice(topics[topic_id]))\n",
    "        \n",
    "        random_words_count = np.random.randint(*random_words_per_entity)\n",
    "        for r in range(random_words_count):\n",
    "            words.append(random.choice(random_words))\n",
    "        \n",
    "        random.shuffle(words)\n",
    "        \n",
    "        mid = np.random.randint(0, len(words))\n",
    "        \n",
    "        lines.append('{}\\t'.format(entity) +  ' '.join(words[:mid]) + \"\\t{}\\t\".format(entity) + ' '.join(words[mid:]) + '\\n')\n",
    "        "
   ]
  },
  {
   "cell_type": "code",
   "execution_count": 48,
   "metadata": {},
   "outputs": [],
   "source": [
    "with open('data/debug_data/simple_data2_train.tsv', 'w') as fd:\n",
    "    for line in lines[:train_size]:\n",
    "        fd.write(line)\n",
    "\n",
    "with open('data/debug_data/simple_data2_valid.tsv', 'w') as fd:\n",
    "    for line in lines[train_size:]:\n",
    "        fd.write(line)"
   ]
  },
  {
   "cell_type": "code",
   "execution_count": 49,
   "metadata": {},
   "outputs": [
    {
     "data": {
      "text/plain": [
       "0.9727142857142869"
      ]
     },
     "execution_count": 49,
     "metadata": {},
     "output_type": "execute_result"
    }
   ],
   "source": [
    "# Estimate minimal error rate\n",
    "\n",
    "true_pred = 0\n",
    "err_pred = 0\n",
    "total = 1000\n",
    "for i in range(total):\n",
    "    a,b = random.sample(entity_to_topics, 2)\n",
    "    err = error_prob(a, b)\n",
    "    err_pred += err\n",
    "    true_pred += 1 - err\n",
    "\n",
    "true_pred / total"
   ]
  },
  {
   "cell_type": "code",
   "execution_count": null,
   "metadata": {},
   "outputs": [],
   "source": []
  }
 ],
 "metadata": {
  "kernelspec": {
   "display_name": "Python 3",
   "language": "python",
   "name": "python3"
  },
  "language_info": {
   "codemirror_mode": {
    "name": "ipython",
    "version": 3
   },
   "file_extension": ".py",
   "mimetype": "text/x-python",
   "name": "python",
   "nbconvert_exporter": "python",
   "pygments_lexer": "ipython3",
   "version": "3.6.4"
  }
 },
 "nbformat": 4,
 "nbformat_minor": 2
}
